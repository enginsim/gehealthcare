{
 "cells": [
  {
   "cell_type": "code",
   "execution_count": 42,
   "id": "542bb6fd-1aec-4465-9fa8-488d8391f322",
   "metadata": {},
   "outputs": [
    {
     "name": "stdout",
     "output_type": "stream",
     "text": [
      "Main page loaded.\n",
      "https://www.allianz.com/content/dam/onemarketing/azcom/Allianz_com/economic-research/country-risk/updateq1-2025/QXP_RISK_MAP_Q1_2025.pdf\n",
      "\n",
      "--- Extracted Results ---\n"
     ]
    }
   ],
   "source": [
    "from selenium import webdriver\n",
    "from selenium.webdriver.chrome.service import Service\n",
    "from selenium.webdriver.common.by import By\n",
    "from selenium.webdriver.chrome.options import Options\n",
    "from selenium.webdriver.support.ui import WebDriverWait\n",
    "from selenium.webdriver.support import expected_conditions as EC\n",
    "from webdriver_manager.chrome import ChromeDriverManager\n",
    "import time\n",
    "import traceback\n",
    "\n",
    "def get_allianz_country_risks():\n",
    "    options = Options()\n",
    "    options.headless = True  # You can set to False if you want to see the browser\n",
    "    service = Service(ChromeDriverManager().install())\n",
    "    driver = webdriver.Chrome(service=service, options=options)\n",
    "\n",
    "    base_url = \"https://www.allianz.com\"\n",
    "    main_url = f\"{base_url}/en/economic_research/country-and-sector-risk/country-risk.html\"\n",
    "    driver.get(main_url)\n",
    "\n",
    "    try:\n",
    "        # Wait for the cards to load\n",
    "        #WebDriverWait(driver, 120).until(EC.presence_of_all_elements_located((By.CSS_SELECTOR, \".card--country-risk\")))\n",
    "        WebDriverWait(driver, 10).until(\n",
    "            EC.presence_of_element_located((By.CSS_SELECTOR, \"a[href$='.pdf']\"))\n",
    "        )\n",
    "        pdf_link_element = driver.find_element(By.CSS_SELECTOR, \"a[href$='.pdf']\")\n",
    "        pdf_href = pdf_link_element.get_attribute(\"href\")\n",
    "        print(\"Main page loaded.\")\n",
    "    except Exception as e:\n",
    "        print(\"Main page did not load correctly.\")\n",
    "        driver.quit()\n",
    "        return []\n",
    "\n",
    "    driver.quit()\n",
    "\n",
    "\n",
    "    \n",
    "    print(pdf_href)\n",
    "\n",
    "    \n",
    "  \n",
    "    results = []\n",
    "    #value of result should consist filename and url like below\n",
    "    #[\"QXP_RISK_MAP_Q1_2025.pdf\",\"https://www.allianz.com/content/dam/onemarketing/azcom/Allianz_com/economic-research/country-risk/updateq1-2025/QXP_RISK_MAP_Q1_2025.pdf\"]\n",
    "    return results\n",
    "\n",
    "# Run it\n",
    "data = get_allianz_country_risks()\n",
    "\n",
    "print(\"\\n--- Extracted Results ---\")\n",
    "for d in data:\n",
    "    print(d)\n",
    "\n"
   ]
  },
  {
   "cell_type": "code",
   "execution_count": null,
   "id": "95043913-ab07-4623-8c05-c590f0a4ca05",
   "metadata": {},
   "outputs": [],
   "source": [
    "\n"
   ]
  },
  {
   "cell_type": "code",
   "execution_count": null,
   "id": "357062a4-8a4a-4054-affe-b7ff36d9cc34",
   "metadata": {},
   "outputs": [],
   "source": []
  },
  {
   "cell_type": "code",
   "execution_count": null,
   "id": "2a5098c1-ce3f-4dc7-81a4-c8edb396ebc7",
   "metadata": {},
   "outputs": [],
   "source": []
  }
 ],
 "metadata": {
  "kernelspec": {
   "display_name": "Python [conda env:base] *",
   "language": "python",
   "name": "conda-base-py"
  },
  "language_info": {
   "codemirror_mode": {
    "name": "ipython",
    "version": 3
   },
   "file_extension": ".py",
   "mimetype": "text/x-python",
   "name": "python",
   "nbconvert_exporter": "python",
   "pygments_lexer": "ipython3",
   "version": "3.12.7"
  }
 },
 "nbformat": 4,
 "nbformat_minor": 5
}
